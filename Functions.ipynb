{
 "cells": [
  {
   "cell_type": "markdown",
   "id": "2021cde0",
   "metadata": {},
   "source": [
    "1. What is the difference between a function and a method in Python?\n",
    " Function : A function is a block of code that performs a specific task.It is not tied to any object.Defined using the \"def\" keyword outside of a class.\n",
    "   Ex:def add(a, b):\n",
    "        return a + b\n",
    "      result = add(3, 5)  # Output: 8  \n",
    " Method: A method is a function that is associated with an object.Defined inside a class and takes self as its first parameter (for instance methods).Called using the object of the class.\n",
    "Ex: class Calculator:\n",
    "        def add(self, a, b):\n",
    "            return a + b\n",
    "    calc = Calculator()\n",
    "    result = calc.add(3, 5)  # Output: 8"
   ]
  },
  {
   "cell_type": "markdown",
   "id": "2fc614ac",
   "metadata": {},
   "source": [
    "2. Explain the concept of function arguments and parameters in Python.\n",
    "   Arguments:\n",
    "    These are the actual values passed to the function when it's called.\n",
    "    They fill in the parameters with real data.\n",
    "   Parameters:\n",
    "    These are placeholders defined in a function declaration.\n",
    "    They specify what kind of input the function expects.\n",
    "  Ex:\n",
    "    def greet(name):  # 'name' is a parameter\n",
    "        print(f\"Hello, {name}!\")\n",
    "    greet(\"Alice\")     # \"Alice\" is an argument\n",
    "    name is the parameter in the function definition.\n",
    "    \"Alice\" is the argument passed during the function call."
   ]
  },
  {
   "cell_type": "markdown",
   "id": "32e29397",
   "metadata": {},
   "source": [
    "3. What are the different ways to define and call a function in Python?  \n",
    "Functions are reusable blocks of code that perform a specific task. In Python, you can define and call functions in multiple ways:\n",
    "1.Standard function( def )\n",
    "    Defined using the def keyword.\n",
    "    Can accept parameters and return values.\n",
    "2.Lambda function\n",
    "    Also called an anonymous function.\n",
    "    Defined using lambda keyword, usually for simple, single-line tasks.\n",
    "3.Function with Default Arguments\n",
    "    Provides default values if no argument is passed.\n",
    "Examples :\n",
    "1. Standard function\n",
    " def greet(name):\n",
    "    return f\"Hello {name}!\"\n",
    " print(greet(\"Somdev\"))  # Calling standard function\n",
    "                        # Output: Hello Somdev!\n",
    "2. Lambda function\n",
    " square = lambda x: x**2\n",
    " print(square(5))        # Calling lambda function\n",
    "                        # Output: 25\n",
    "3. def greet(name=\"Guest\"):\n",
    "    return f\"Hello, {name}!\"\n",
    "print(greet())         # Output: Hello, Guest!\n",
    "print(greet(\"Alice\"))  # Output: Hello, Alice!"
   ]
  },
  {
   "cell_type": "markdown",
   "id": "4a2c9e8e",
   "metadata": {},
   "source": [
    "4. What is the purpose of the `return` statement in a Python function?\n",
    "    The return statement in Python is used to send a result back from a function to the caller. It marks the end of a function's execution and optionally passes back a value.\n",
    "    The purpose of return is:\n",
    "        Outputs a value from the function.\n",
    "        Ends the function's execution.\n",
    "        Allows the result to be stored or used elsewhere in the program.\n",
    "    Ex: def multiply(a, b):\n",
    "            result = a * b\n",
    "            return result\n",
    "\n",
    "        output = multiply(4, 5)\n",
    "        print(output)  # Output: 20\n",
    "    Without a return statement, the function would return None by default."
   ]
  },
  {
   "cell_type": "markdown",
   "id": "a94a0b43",
   "metadata": {},
   "source": [
    "5. What are iterators in Python and how do they differ from iterables?\n",
    "    In Python, iterators and iterables are both used to loop over data, but they serve different roles in the iteration process.\n",
    "    Iterable:\n",
    "    An object that can be looped over (e.g., in a for loop).\n",
    "    Examples: lists, tuples, strings, dictionaries.\n",
    "    It implements the __iter__() method, which returns an iterator.\n",
    "    Iterator:\n",
    "    An object that produces the next value in a sequence when you call next().\n",
    "    It implements both __iter__() and __next__() methods.\n",
    "    Keeps track of its current position.\n",
    "    Ex:\n",
    "         # Iterable: a list\n",
    "        numbers = [1, 2, 3]\n",
    "        # Convert iterable to iterator\n",
    "        num_iter = iter(numbers)\n",
    "        # Iterator: use next() to get values\n",
    "        print(next(num_iter))  # Output: 1\n",
    "        print(next(num_iter))  # Output: 2\n",
    "        print(next(num_iter))  # Output: 3"
   ]
  },
  {
   "cell_type": "markdown",
   "id": "372ebede",
   "metadata": {},
   "source": [
    "6. Explain the concept of generators in Python and how they are defined.\n",
    "In Python, generators are a special type of function that allow you to iterate over data lazily, meaning they produce items one at a time only when needed, rather than generating the entire sequence at once. This makes them memory-efficient and ideal for working with large datasets or infinite sequences.\n",
    "    Defined like a regular function using def.Use the yield keyword instead of return.Each time yield is called, the function's state is saved, and it resumes from that point on the next call.\n",
    "    Ex: def even_numbers(limit):\n",
    "            num = 0\n",
    "            while num <= limit:\n",
    "                if num % 2 == 0:\n",
    "                yield num\n",
    "                num += 1\n",
    "        for n in even_numbers(10):\n",
    "            print(n)\n",
    "    o|p:\n",
    "        0\n",
    "        2\n",
    "        4\n",
    "        6\n",
    "        8\n",
    "        10       "
   ]
  },
  {
   "cell_type": "markdown",
   "id": "b9bb3695",
   "metadata": {},
   "source": [
    "7. What are the advantages of using generators over regular functions?\n",
    "Generators offer several powerful advantages over regular functions, especially when dealing with large datasets or streams of data.\n",
    "Advantages of Generators in Python:\n",
    "1. Memory Efficiency\n",
    "Generators yield one item at a time, so they don’t store the entire sequence in memory.\n",
    "Ideal for processing large files or infinite sequences.\n",
    "2. Lazy Evaluation\n",
    "Values are generated on-the-fly, only when requested.\n",
    "This reduces initial computation time and speeds up performance in many cases.\n",
    "3. Infinite Sequences\n",
    "You can define generators that never end, like streaming data or mathematical sequences.\n",
    "4. Improved Performance\n",
    "Because they avoid building full lists or data structures, generators often run faster and use fewer resources.\n",
    "Ex:\n",
    "    def count_up_to(n):\n",
    "        num = 1\n",
    "        while num <= n:\n",
    "            yield num\n",
    "            num += 1"
   ]
  },
  {
   "cell_type": "markdown",
   "id": "8bdb9f76",
   "metadata": {},
   "source": [
    "8. What is a lambda function in Python and when is it typically used?\n",
    "A lambda function in Python is a small, anonymous function defined using the lambda keyword. Unlike regular functions defined with def, lambda functions are typically used for short, throwaway operations where defining a full function would be overkill.\n",
    "Ex:\n",
    "    # Lambda function to add two numbers\n",
    "    add = lambda x, y: x + y\n",
    "    print(add(3, 5))  # Output: 8\n",
    "It is used because No need to define a full function,Perfect for one-off operations,Works well with map(), filter(), and reduce()."
   ]
  },
  {
   "cell_type": "markdown",
   "id": "2a3339e5",
   "metadata": {},
   "source": [
    "9. Explain the purpose and usage of the `map()` function in Python.\n",
    "The map() function in Python is used to apply a function to every item in an iterable (like a list or tuple) and return a new iterable (specifically, a map object) with the results.\n",
    "#syntax:\n",
    "map(function, iterable)\n",
    "Ex:\n",
    "    numbers = [1, 2, 3, 4]\n",
    "    squared = map(lambda x: x ** 2, numbers)\n",
    "    print(list(squared))  # Output: [1, 4, 9, 16]\n",
    "Purpose of map() :To transform data efficiently,Avoids writing explicit loops,Works well with lambda functions for concise operations."
   ]
  },
  {
   "cell_type": "markdown",
   "id": "1fa7aada",
   "metadata": {},
   "source": [
    "10. What is the difference between `map()`, `reduce()`, and `filter()` functions in Python?\n",
    "map():\n",
    "Purpose: Applies a function to each item in an iterable.\n",
    "Returns: A new iterable with transformed items.\n",
    "    Ex: numbers = [1, 2, 3, 4]\n",
    "        squared = map(lambda x: x**2, numbers)\n",
    "        print(list(squared))  # Output: [1, 4, 9, 16]\n",
    "Reduce(): Frpm Functools modules\n",
    "Purpose: Applies a function cumulatively to the items in an iterable, reducing it to a single value.\n",
    "Returns: A single result.\n",
    "    Ex: from functools import reduce\n",
    "        numbers = [1, 2, 3, 4]\n",
    "        product = reduce(lambda x, y: x * y, numbers)\n",
    "        print(product)  # Output: 24\n",
    "Filter():\n",
    "Purpose: Filters items in an iterable based on a condition.\n",
    "Returns: A new iterable with items that satisfy the condition.\n",
    "    Ex: numbers = [1, 2, 3, 4, 5]\n",
    "        evens = filter(lambda x: x % 2 == 0, numbers)\n",
    "        print(list(evens))  # Output: [2, 4]"
   ]
  },
  {
   "cell_type": "markdown",
   "id": "a9be7298",
   "metadata": {},
   "source": [
    "11. Using pen & Paper write the internal mechanism for sum operation using  reduce function on this given\n",
    "list:[47,11,42,13]; \n",
    "![alt text](image.png)"
   ]
  },
  {
   "cell_type": "code",
   "execution_count": null,
   "id": "5b01cd53",
   "metadata": {},
   "outputs": [
    {
     "name": "stdout",
     "output_type": "stream",
     "text": [
      "30\n"
     ]
    }
   ],
   "source": [
    "# 1. Write a Python function that takes a list of numbers as input and returns the sum of all even numbers inthe list.\n",
    "\n",
    "def evennum(nums):\n",
    "  return sum(n for n in nums if n % 2 == 0)\n",
    "print(evennum([1, 2, 3, 4, 5, 6, 7, 8, 9, 10]))"
   ]
  },
  {
   "cell_type": "code",
   "execution_count": null,
   "id": "83d3ac2b",
   "metadata": {},
   "outputs": [
    {
     "name": "stdout",
     "output_type": "stream",
     "text": [
      "snoitcnuF\n"
     ]
    }
   ],
   "source": [
    "#2. Create a Python function that accepts a string and returns the reverse of that string?\n",
    "\n",
    "def rever_string(s):\n",
    "    return s[::-1]\n",
    "print(rever_string(\"Functions\"))"
   ]
  },
  {
   "cell_type": "code",
   "execution_count": null,
   "id": "a063c157",
   "metadata": {},
   "outputs": [
    {
     "name": "stdout",
     "output_type": "stream",
     "text": [
      "new list [1, 4, 9, 16, 25]\n"
     ]
    }
   ],
   "source": [
    "# 3.  Implement a Python function that takes a list of integers and returns a new list containing the squares of each number.\n",
    "lst=[1,2,3,4,5]\n",
    "def new_list(lst):\n",
    "    new_lst=[]\n",
    "    for i in lst:\n",
    "       new_lst.append(i**2)\n",
    "    return new_lst\n",
    "print(\"new list\" ,new_list(lst))   "
   ]
  },
  {
   "cell_type": "code",
   "execution_count": 1,
   "id": "86cd33aa",
   "metadata": {},
   "outputs": [
    {
     "name": "stdout",
     "output_type": "stream",
     "text": [
      "The 7 is a prime number : True\n"
     ]
    }
   ],
   "source": [
    "#4. Write a Python function that checks if a given number is prime or not from 1 to 200\n",
    "from math import sqrt\n",
    "def primeNo(num):\n",
    "  if num==1 or num==0:\n",
    "    print(\"Not a prime number\")\n",
    "\n",
    "  for i in range(2,int(sqrt(num))+1):\n",
    "   if num%i==0:\n",
    "    return False\n",
    "\n",
    "  return True\n",
    "num=int(input(\"Enter a number between (1 to 200):\"))\n",
    "check=primeNo(num)\n",
    "print(f\"The {num} is a prime number : {check}\")\n"
   ]
  },
  {
   "cell_type": "code",
   "execution_count": null,
   "id": "f32d203f",
   "metadata": {},
   "outputs": [
    {
     "name": "stdout",
     "output_type": "stream",
     "text": [
      "0 1 1 2 3 5 8 13 21 34 "
     ]
    }
   ],
   "source": [
    "#5. Create an iterator class in Python that generates the Fibonacci sequence up to a specified number of terms.\n",
    "class Fibonacci:\n",
    "    def __init__(self, n):\n",
    "        self.n = n\n",
    "        self.a = 0\n",
    "        self.b = 1\n",
    "        self.count = 0\n",
    "\n",
    "    def __iter__(self):\n",
    "        return self\n",
    "\n",
    "    def __next__(self):\n",
    "        if self.count >= self.n:\n",
    "            raise StopIteration\n",
    "        if self.count == 0:\n",
    "            self.count += 1\n",
    "            return self.a\n",
    "        elif self.count == 1:\n",
    "            self.count += 1\n",
    "            return self.b\n",
    "        else:\n",
    "            self.a, self.b = self.b, self.a + self.b\n",
    "            self.count += 1\n",
    "            return self.b\n",
    "num = int(input(\"Enter number of terms: \"))\n",
    "fib = Fibonacci(num)  # Create an instance\n",
    "for val in fib:        # Iterate over the instance\n",
    "    print(val, end=\" \")"
   ]
  },
  {
   "cell_type": "code",
   "execution_count": null,
   "id": "84f0d8a5",
   "metadata": {},
   "outputs": [
    {
     "name": "stdout",
     "output_type": "stream",
     "text": [
      "1\n",
      "2\n",
      "4\n",
      "8\n",
      "16\n"
     ]
    }
   ],
   "source": [
    "#6. Write a generator function in Python that yields the powers of 2 up to a given exponent.\n",
    "def gen(num):\n",
    "    for i in range(num+1):\n",
    "        result = 2**i\n",
    "        yield result\n",
    "num= int(input(\"enter a number :\"))\n",
    "#result =gen(num)\n",
    "for val in gen(num):    \n",
    "    print(val)"
   ]
  },
  {
   "cell_type": "code",
   "execution_count": 43,
   "id": "6e0d4427",
   "metadata": {},
   "outputs": [
    {
     "name": "stdout",
     "output_type": "stream",
     "text": [
      "This is the first line\n",
      "This is the second line\n",
      "This is the third line\n"
     ]
    }
   ],
   "source": [
    "#7. Implement a generator function that reads a file line by line and yields each line as a string\n",
    "def read_lines(file_content):\n",
    "    for line in file_content:\n",
    "        yield line.strip()  # remove any extra spaces/newlines\n",
    "\n",
    "# Simulated file content as a list of strings\n",
    "file = [\n",
    "    \"This is the first line\\n\",\n",
    "    \"This is the second line\\n\",\n",
    "    \"This is the third line\\n\"\n",
    "]\n",
    "\n",
    "# Using the generator\n",
    "for line in read_lines(file):\n",
    "    print(line)"
   ]
  },
  {
   "cell_type": "code",
   "execution_count": 17,
   "id": "42d0c46e",
   "metadata": {},
   "outputs": [
    {
     "name": "stdout",
     "output_type": "stream",
     "text": [
      "[(2, 1), (3, 2), (1, 5), (4, 8)]\n"
     ]
    }
   ],
   "source": [
    "#8. Use a lambda function in Python to sort a list of tuples based on the second element of each tuple.\n",
    "data = [(1, 5), (3, 2), (4, 8), (2, 1)]\n",
    "sorted_tuple = sorted(data,key=lambda x:x[1])\n",
    "print(sorted_tuple)"
   ]
  },
  {
   "cell_type": "code",
   "execution_count": 16,
   "id": "8c147289",
   "metadata": {},
   "outputs": [
    {
     "name": "stdout",
     "output_type": "stream",
     "text": [
      "Fahrenheit : [32.0, 50.0, 68.0, 86.0, 104.0]\n"
     ]
    }
   ],
   "source": [
    "#9. Write a Python program that uses `map()` to convert a list of temperatures from Celsius to Fahrenheit.\n",
    "\n",
    "celsius = [0,10,20,30,40]\n",
    "Fahrenheit= list(map(lambda c: (c*9/5) +32  , celsius))\n",
    "print(\"Fahrenheit :\", Fahrenheit)"
   ]
  },
  {
   "cell_type": "code",
   "execution_count": 12,
   "id": "e88c1385",
   "metadata": {},
   "outputs": [
    {
     "name": "stdout",
     "output_type": "stream",
     "text": [
      "String without vowels: Hy Mnk\n"
     ]
    }
   ],
   "source": [
    "#10. Create a Python program that uses `filter()` to remove all the vowels from a given string\n",
    "def remove_vowels(strg):\n",
    "    vowels = 'aeiouAEIOU'\n",
    "    return  ''.join(filter(lambda ch:ch not in vowels,strg))\n",
    " \n",
    "inp_strg = input(\"Enter a string \")\n",
    "result = remove_vowels(inp_strg)\n",
    "print(\"String without vowels:\", result)"
   ]
  },
  {
   "cell_type": "code",
   "execution_count": 42,
   "id": "d7f7bb0b",
   "metadata": {},
   "outputs": [
    {
     "name": "stdout",
     "output_type": "stream",
     "text": [
      "[(34587, 163.8), (98762, 284.0), (77226, 98.85000000000001), (88112, 74.97)]\n"
     ]
    }
   ],
   "source": [
    "\"\"\"11) Imagine an accounting routine used in a book shop. It works on a list with sublists, which look like this:\n",
    "# order numer         Book title and Author                    Quantity          Price per item\n",
    "# 34587               learning Python, Mark Lutz                  4                   40.95\n",
    "# 98762               Programming Python, Mark Lutz               5                   56.80\n",
    "# 77226               Head first Python, Paul Barry               3                   32.95\n",
    "# 88112               Einnfuhrung in Pthon 3 , Bernd Klein        3                   24.99\n",
    "\n",
    "Write a Python program, which returns a list with 2-tuples. Each tuple consists of the order number and the\n",
    "product of the price per item and the quantity. The product should be increased by 10,- € if the value of the\n",
    "order is smaller than 100,00 €.\n",
    "Write a Python program using lambda and map.\"\"\"\n",
    "\n",
    "\n",
    "book_orders = [\n",
    "    [34587, \"Learning Python, Mark Lutz\", 4, 40.95],\n",
    "    [98762, \"Programming Python, Mark Lutz\", 5, 56.80],\n",
    "    [77226, \"Head First Python, Paul Barry\", 3, 32.95],\n",
    "    [88112, \"Einführung in Python3, Bernd Klein\", 3, 24.99]\n",
    "]\n",
    "\n",
    "def fun_orders(orders):\n",
    "    orderss =list(map(lambda order:(order[0],(order[2]*order[3])+10 if order[0]<10000 else (order[2]*order[3])),orders))\n",
    "    return orderss\n",
    "\n",
    "final_list = fun_orders(book_orders)\n",
    "print(final_list)\n",
    "    \n",
    "\n"
   ]
  }
 ],
 "metadata": {
  "kernelspec": {
   "display_name": "base",
   "language": "python",
   "name": "python3"
  },
  "language_info": {
   "codemirror_mode": {
    "name": "ipython",
    "version": 3
   },
   "file_extension": ".py",
   "mimetype": "text/x-python",
   "name": "python",
   "nbconvert_exporter": "python",
   "pygments_lexer": "ipython3",
   "version": "3.9.7"
  }
 },
 "nbformat": 4,
 "nbformat_minor": 5
}
