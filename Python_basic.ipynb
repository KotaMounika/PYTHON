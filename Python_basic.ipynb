{
  "nbformat": 4,
  "nbformat_minor": 0,
  "metadata": {
    "colab": {
      "provenance": []
    },
    "kernelspec": {
      "name": "python3",
      "display_name": "Python 3"
    },
    "language_info": {
      "name": "python"
    }
  },
  "cells": [
    {
      "cell_type": "markdown",
      "source": [
        "                                               Python Basics Questions"
      ],
      "metadata": {
        "id": "KmhyhSWBSHOs"
      }
    },
    {
      "cell_type": "markdown",
      "source": [
        "1. What is Python, and why is it popular?\n",
        "   \n",
        "   Python is a high-level, general-purpose programming language known for its simplicity, readability, and versatility.Python was designed to be easy to understand and write,making it accessible to both beginners and experienced developers."
      ],
      "metadata": {
        "id": "2IFNkU0A9uTa"
      }
    },
    {
      "cell_type": "markdown",
      "source": [
        "2. What is an interpreter in Python?\n",
        "\n",
        "   An Interpreter is the program that translates and executes the code line by line during runtime."
      ],
      "metadata": {
        "id": "gJiegxgc-UyW"
      }
    },
    {
      "cell_type": "markdown",
      "source": [
        "3. What are pre-defined keywords in Python?\n",
        "\n",
        "   In Python, pre-defined keywords are reserved words that have special meaning in the language.You cannot use them as variable names, function namesor identifiers because they are part of Python's syntax and structure.\n",
        "   Example:if,else,for,True etc.\n"
      ],
      "metadata": {
        "id": "Vd0EDweA-p32"
      }
    },
    {
      "cell_type": "markdown",
      "source": [
        "4. Can keywords be used as variable names?\n",
        "\n",
        "   No.keywords cannot be used as variable names in Python.They are reserved by the language because they define its syntax and structure."
      ],
      "metadata": {
        "id": "GGvxFsDM_voY"
      }
    },
    {
      "cell_type": "markdown",
      "source": [
        "5. What is mutability in Python?\n",
        "\n",
        "   Mutability refers to whether an object's value can be changed after it's been created."
      ],
      "metadata": {
        "id": "omBhaZYGACmJ"
      }
    },
    {
      "cell_type": "markdown",
      "source": [
        "6. Why are lists mutable, but tuples are immutable?\n",
        "\n",
        "   Lists are meant to store collections of items that may change over time.Python stores lists as dynamic arrays. You can add, remove, or modify elements without creating a new list.Ideal for tasks where data needs to be updated, like appending user input or processing items in a loop.\n",
        "   Tuples are used to represent fixed collections of items — like coordinates, RGB values, or function returns.Once created, the memory layout of a tuple is fixed. Python prevents changes to ensure consistency and safety.Great for data that shouldn't change, like keys in a dictionary or constants"
      ],
      "metadata": {
        "id": "if-KhNhWNWgv"
      }
    },
    {
      "cell_type": "markdown",
      "source": [
        "7. What is the difference between “==” and “is” operators in Python?\n",
        "\n",
        "   == checks if two variables have the same value, while is checks if they refer to the same object in memory."
      ],
      "metadata": {
        "id": "gOCTcVQjOGwl"
      }
    },
    {
      "cell_type": "markdown",
      "source": [
        "8. What are logical operators in Python?\n",
        "  \n",
        "   Logical operators in Python are: and,or,and not—used to combine or invert boolean expressions in conditional statements."
      ],
      "metadata": {
        "id": "83AVag4BOq_Q"
      }
    },
    {
      "cell_type": "markdown",
      "source": [
        "9. What is type casting in Python?\n",
        "\n",
        "   Type casting in Python means converting one data type into another,like changing an integer to a string using str()or a float to an integer using int().It helps ensure compatibility between different data types during operations."
      ],
      "metadata": {
        "id": "ooBt18JpPAwe"
      }
    },
    {
      "cell_type": "markdown",
      "source": [
        "10. What is the difference between implicit and explicit type casting?\n",
        "\n",
        "    Implicit type casting is done automatically by Python when converting a smaller data type to a larger one (ex:int to float).Explicit type casting is manually done by the programmer using functions like int(),float(),or str()."
      ],
      "metadata": {
        "id": "mwGEgJOePWfb"
      }
    },
    {
      "cell_type": "markdown",
      "source": [
        "11. What is the purpose of conditional statements in Python?\n",
        "\n",
        "    The purpose of conditional statements in Python is to control the flow of a program by executing certain blocks of code only when specific conditions are met.They help make decisions using if,elif,and else statements."
      ],
      "metadata": {
        "id": "idrF50eBQZZu"
      }
    },
    {
      "cell_type": "markdown",
      "source": [
        "12. How does the elif statement work?\n",
        "\n",
        "    The elif statement in Python stands for \"else if\" and is used to check multiple conditions after an initial if.If the if condition is false,Python checks each elif in order until one is true—then it runs that block and skips the rest.\n"
      ],
      "metadata": {
        "id": "-QSlFGtSQsRo"
      }
    },
    {
      "cell_type": "markdown",
      "source": [
        "13. What is the difference between for and while loops?\n",
        "\n",
        "    For loop is used when the number of iterations is known, typically with sequences like lists or ranges.while loop runs as long as a condition is true,ideal when the number of iterations is unknown.\n"
      ],
      "metadata": {
        "id": "g8kvCo1vRGHe"
      }
    },
    {
      "cell_type": "markdown",
      "source": [
        "14. Describe a scenario where a while loop is more suitable than a for loop?\n",
        "\n",
        "    A while loop is more suitable when the number of iterations is not known in advance.Scenario:Imagine you're building a login system that keeps asking the user for a correct password until they enter it correctly,you don't know how many attempts the user will need.\n",
        "\n",
        "   "
      ],
      "metadata": {
        "id": "ln7K_X4LRU5R"
      }
    },
    {
      "cell_type": "markdown",
      "source": [
        "                                         Practical Questions"
      ],
      "metadata": {
        "id": "EPnf_WGiSMtx"
      }
    },
    {
      "cell_type": "markdown",
      "source": [
        "1. Write a Python program to print \"Hello, World!\""
      ],
      "metadata": {
        "id": "VSy5kPHbSj0q"
      }
    },
    {
      "cell_type": "code",
      "source": [
        "print(\"Hello, World!\")"
      ],
      "metadata": {
        "colab": {
          "base_uri": "https://localhost:8080/"
        },
        "id": "ffsqyFDeSZfa",
        "outputId": "566bdfe4-3776-4b95-9532-af49058507bb"
      },
      "execution_count": null,
      "outputs": [
        {
          "output_type": "stream",
          "name": "stdout",
          "text": [
            "Hello, World!\n"
          ]
        }
      ]
    },
    {
      "cell_type": "markdown",
      "source": [
        "2. Write a Python program that displays your name and age"
      ],
      "metadata": {
        "id": "yHU4wpmvSitV"
      }
    },
    {
      "cell_type": "code",
      "source": [
        "name=\"Mounika\"\n",
        "age= \"24\"\n",
        "print(name)\n",
        "print(age)"
      ],
      "metadata": {
        "colab": {
          "base_uri": "https://localhost:8080/"
        },
        "id": "YAkKoU22S5qD",
        "outputId": "f8564961-d44e-466e-cc81-9dfae67fb868"
      },
      "execution_count": null,
      "outputs": [
        {
          "output_type": "stream",
          "name": "stdout",
          "text": [
            "Mounika\n",
            "24\n"
          ]
        }
      ]
    },
    {
      "cell_type": "markdown",
      "source": [
        "3. Write code to print all the pre-defined keywords in Python using the keyword library"
      ],
      "metadata": {
        "id": "fsourP6zTFcS"
      }
    },
    {
      "cell_type": "code",
      "source": [
        "import keyword\n",
        "print(\"pre-defiend keywords:\")\n",
        "print(keyword.kwlist)"
      ],
      "metadata": {
        "colab": {
          "base_uri": "https://localhost:8080/"
        },
        "id": "9-aikG18TRHY",
        "outputId": "acd5c341-29d6-4702-d033-d6f2ed536af6"
      },
      "execution_count": null,
      "outputs": [
        {
          "output_type": "stream",
          "name": "stdout",
          "text": [
            "pre-defiend keywords:\n",
            "['False', 'None', 'True', 'and', 'as', 'assert', 'async', 'await', 'break', 'class', 'continue', 'def', 'del', 'elif', 'else', 'except', 'finally', 'for', 'from', 'global', 'if', 'import', 'in', 'is', 'lambda', 'nonlocal', 'not', 'or', 'pass', 'raise', 'return', 'try', 'while', 'with', 'yield']\n"
          ]
        }
      ]
    },
    {
      "cell_type": "markdown",
      "source": [
        "4. Write a program that checks if a given word is a Python keyword"
      ],
      "metadata": {
        "id": "zm_bw67ETxxS"
      }
    },
    {
      "cell_type": "code",
      "source": [
        "import keyword\n",
        "word =input(\"Enter a word :\")\n",
        "if keyword.iskeyword(word):\n",
        "  print(f\"{word}\",\"is a keyword\")\n",
        "else:\n",
        "     print(f\"{word}\",\"is not a keyword\")"
      ],
      "metadata": {
        "colab": {
          "base_uri": "https://localhost:8080/"
        },
        "id": "zEFtMELsWwfS",
        "outputId": "dc62decf-216b-400c-b1ca-4e5855288030"
      },
      "execution_count": null,
      "outputs": [
        {
          "output_type": "stream",
          "name": "stdout",
          "text": [
            "Enter a word :True\n",
            "True is a keyword\n"
          ]
        }
      ]
    },
    {
      "cell_type": "markdown",
      "source": [
        "5. Create a list and tuple in Python, and demonstrate how attempting to change an element works differently\n",
        "for each."
      ],
      "metadata": {
        "id": "SDxl5qs7XEFK"
      }
    },
    {
      "cell_type": "code",
      "source": [
        "my_list = [10, 20, 30]\n",
        "my_tuple = (10, 20, 30)\n",
        "my_list[1] = 99\n",
        "print(\"changed list:\", my_list)\n",
        "my_tuple[1] == 99\n",
        "print(\"changed tuple:\", my_tuple)"
      ],
      "metadata": {
        "colab": {
          "base_uri": "https://localhost:8080/"
        },
        "id": "KOup-Kr0XOLF",
        "outputId": "11345f1c-3c1e-4a85-bea8-4e0ceabb6fd0"
      },
      "execution_count": 15,
      "outputs": [
        {
          "output_type": "stream",
          "name": "stdout",
          "text": [
            "changed list: [10, 99, 30]\n",
            "changed tuple: (10, 20, 30)\n"
          ]
        }
      ]
    },
    {
      "cell_type": "markdown",
      "source": [
        "6. Write a function to demonstrate the behavior of mutable and immutable arguments."
      ],
      "metadata": {
        "id": "OKz3LYB9ZUTA"
      }
    },
    {
      "cell_type": "code",
      "source": [
        "def change_values(a, b):\n",
        "    a = a + 1          # Immutable\n",
        "    b[0] = b[0] + 1     # Mutable\n",
        "    print(\"Inside function:\")\n",
        "    print(\"a =\", a)\n",
        "    print(\"b =\", b)\n",
        "x = 5\n",
        "y = [10]\n",
        "change_values(x, y)\n",
        "print(\"\\nOutside function:\")\n",
        "print(\"x =\", x)  # Still 5 (immutable)\n",
        "print(\"y =\", y)  # Changed to [11] (mutable)"
      ],
      "metadata": {
        "id": "XvKbWKpdZbHF",
        "colab": {
          "base_uri": "https://localhost:8080/"
        },
        "outputId": "bf3a94d7-cf34-4e13-9c24-8b93d46caacc"
      },
      "execution_count": 25,
      "outputs": [
        {
          "output_type": "stream",
          "name": "stdout",
          "text": [
            "Inside function:\n",
            "a = 6\n",
            "b = [11]\n",
            "\n",
            "Outside function:\n",
            "x = 5\n",
            "y = [11]\n"
          ]
        }
      ]
    },
    {
      "cell_type": "markdown",
      "source": [
        "7. Write a program that performs basic arithmetic operations on two user-input numbers."
      ],
      "metadata": {
        "id": "z_OwihR7eNof"
      }
    },
    {
      "cell_type": "code",
      "source": [
        "num1 = float(input(\"Enter the first number: \"))\n",
        "num2 = float(input(\"Enter the second number: \"))\n",
        "addition = num1 + num2\n",
        "subtraction = num1 - num2\n",
        "multiplication = num1 * num2\n",
        "if num2 != 0:\n",
        "    division = num1 / num2\n",
        "else:\n",
        "    division = \"Undefined (cannot divide by zero)\"\n",
        "print(\"\\nResults:\")\n",
        "print(addition)\n",
        "print(subtraction)\n",
        "print(multiplication)\n",
        "print(division)"
      ],
      "metadata": {
        "id": "azNorFXteN7V",
        "colab": {
          "base_uri": "https://localhost:8080/"
        },
        "outputId": "7d1f79d2-b028-44b7-9027-cba1b5207dea"
      },
      "execution_count": 4,
      "outputs": [
        {
          "output_type": "stream",
          "name": "stdout",
          "text": [
            "Enter the first number: 16\n",
            "Enter the second number: 4\n",
            "\n",
            "Results:\n",
            "20.0\n",
            "12.0\n",
            "64.0\n",
            "4.0\n"
          ]
        }
      ]
    },
    {
      "cell_type": "markdown",
      "source": [
        "8.  Write a program to demonstrate the use of logical operators."
      ],
      "metadata": {
        "id": "v8tvMGtIeRC6"
      }
    },
    {
      "cell_type": "code",
      "source": [
        "a = 10\n",
        "b = 6\n",
        "if a > 0 and b > 0:\n",
        "    print(\"Both numbers are positive.\")\n",
        "if a > 0 or b < 0:\n",
        "    print(\"At least one condition is true.\")\n",
        "if not (a < 0):\n",
        "    print(\"a is not negative.\")"
      ],
      "metadata": {
        "id": "epB9vjODeS08",
        "colab": {
          "base_uri": "https://localhost:8080/"
        },
        "outputId": "4fdc8b2a-01fc-4c67-8ba8-dd844e385e6d"
      },
      "execution_count": 6,
      "outputs": [
        {
          "output_type": "stream",
          "name": "stdout",
          "text": [
            "Both numbers are positive.\n",
            "At least one condition is true.\n",
            "a is not negative.\n"
          ]
        }
      ]
    },
    {
      "cell_type": "markdown",
      "source": [
        "9. Write a Python program to convert user input from string to integer, float, and boolean types"
      ],
      "metadata": {
        "id": "bWUc1hkyeTm_"
      }
    },
    {
      "cell_type": "code",
      "source": [
        "value = input(\"Enter a number: \")\n",
        "# Type casting\n",
        "int_value = int(value)\n",
        "float_value = float(value)\n",
        "bool_value = bool(value)\n",
        "print(\"As integer:\",int_value)\n",
        "print(\"As float:\",float_value)\n",
        "print(\"As boolean:\",bool_value)"
      ],
      "metadata": {
        "id": "NB7VB1MCeU2K",
        "colab": {
          "base_uri": "https://localhost:8080/"
        },
        "outputId": "35472e16-7700-4e36-eb74-bfd8b03197d7"
      },
      "execution_count": 26,
      "outputs": [
        {
          "output_type": "stream",
          "name": "stdout",
          "text": [
            "Enter a number: 6\n",
            "As integer: 6\n",
            "As float: 6.0\n",
            "As boolean: True\n"
          ]
        }
      ]
    },
    {
      "cell_type": "markdown",
      "source": [
        "10.  Write code to demonstrate type casting with list elements"
      ],
      "metadata": {
        "id": "ziTNoyY1eV7Z"
      }
    },
    {
      "cell_type": "code",
      "source": [
        "# List of string numbers\n",
        "data = [\"1\", \"2\", \"3\", \"4\"]\n",
        "\n",
        "# Convert to integer\n",
        "int_data = [int(x) for x in data]\n",
        "\n",
        "# Convert to float\n",
        "float_data = [float(x) for x in data]\n",
        "\n",
        "# Convert to boolean\n",
        "bool_data = [bool(int(x)) for x in data]\n",
        "\n",
        "# Print results\n",
        "print(\"Original list:\", data)\n",
        "print(\"As integers:\", int_data)\n",
        "print(\"As floats:\", float_data)\n",
        "print(\"As booleans:\", bool_data)"
      ],
      "metadata": {
        "id": "_zY866rQeW0F",
        "colab": {
          "base_uri": "https://localhost:8080/"
        },
        "outputId": "0acc4be5-ec54-46cd-9519-2c5d857a1d2b"
      },
      "execution_count": 27,
      "outputs": [
        {
          "output_type": "stream",
          "name": "stdout",
          "text": [
            "Original list: ['1', '2', '3', '4']\n",
            "As integers: [1, 2, 3, 4]\n",
            "As floats: [1.0, 2.0, 3.0, 4.0]\n",
            "As booleans: [True, True, True, True]\n"
          ]
        }
      ]
    },
    {
      "cell_type": "markdown",
      "source": [
        "11. Write a program that checks if a number is positive, negative, or zero."
      ],
      "metadata": {
        "id": "Z0LcVFAdeXPS"
      }
    },
    {
      "cell_type": "code",
      "source": [
        "num = float(input(\"Enter a number: \"))\n",
        "if num > 0:\n",
        "    print(\"The number is positive.\")\n",
        "elif num < 0:\n",
        "    print(\"The number is negative.\")\n",
        "else:\n",
        "    print(\"The number is zero.\")"
      ],
      "metadata": {
        "id": "VaUcbSYveYFo",
        "colab": {
          "base_uri": "https://localhost:8080/"
        },
        "outputId": "3d680472-8d91-4372-9145-a270d9f33471"
      },
      "execution_count": 7,
      "outputs": [
        {
          "output_type": "stream",
          "name": "stdout",
          "text": [
            "Enter a number: 9\n",
            "The number is positive.\n"
          ]
        }
      ]
    },
    {
      "cell_type": "markdown",
      "source": [
        "12.  Write a for loop to print numbers from 1 to 10."
      ],
      "metadata": {
        "id": "bQ-dm-DceYua"
      }
    },
    {
      "cell_type": "code",
      "source": [
        "for i in range(1,11):\n",
        "  print(i)"
      ],
      "metadata": {
        "colab": {
          "base_uri": "https://localhost:8080/"
        },
        "id": "RJH4XhjzDJBl",
        "outputId": "4916e882-89e2-43d9-f5e1-fcdd7bdca43c"
      },
      "execution_count": null,
      "outputs": [
        {
          "output_type": "stream",
          "name": "stdout",
          "text": [
            "1\n",
            "2\n",
            "3\n",
            "4\n",
            "5\n",
            "6\n",
            "7\n",
            "8\n",
            "9\n",
            "10\n"
          ]
        }
      ]
    },
    {
      "cell_type": "markdown",
      "source": [
        "13. Write a Python program to find the sum of all even numbers between 1 and 50."
      ],
      "metadata": {
        "id": "pBwZQ0gO-8OP"
      }
    },
    {
      "cell_type": "code",
      "source": [
        "sum=0\n",
        "for i in range(0,51,2):\n",
        "  sum+= i\n",
        "print(\"sum of all even numbers between 1 and 50 \",sum)\n"
      ],
      "metadata": {
        "colab": {
          "base_uri": "https://localhost:8080/"
        },
        "id": "WupdlkCZAHz4",
        "outputId": "8ebf87d9-744b-44ae-9217-42407c1a9b02"
      },
      "execution_count": null,
      "outputs": [
        {
          "output_type": "stream",
          "name": "stdout",
          "text": [
            "sum of all even numbers between 1 and 50  650\n"
          ]
        }
      ]
    },
    {
      "cell_type": "markdown",
      "source": [
        "14.  Write a program to reverse a string using a while loop.\n"
      ],
      "metadata": {
        "id": "CbSg6JDQ-9Vj"
      }
    },
    {
      "cell_type": "code",
      "source": [
        "text = \"Mounika\"\n",
        "i = len(text) - 1\n",
        "reverse = \"\"\n",
        "while i >= 0:\n",
        "    reverse += text[i]\n",
        "    i -= 1\n",
        "print(\"Reversed string:\", reverse)"
      ],
      "metadata": {
        "id": "3htoUNYiD2Gn",
        "colab": {
          "base_uri": "https://localhost:8080/"
        },
        "outputId": "0a589687-f472-48cb-b44e-c0128c6acade"
      },
      "execution_count": 9,
      "outputs": [
        {
          "output_type": "stream",
          "name": "stdout",
          "text": [
            "Reversed string: akinuoM\n"
          ]
        }
      ]
    },
    {
      "cell_type": "markdown",
      "source": [
        "15. Write a Python program to calculate the factorial of a number provided by the user using a while loop.\n",
        "\n"
      ],
      "metadata": {
        "id": "2zxIOTQ3--VE"
      }
    },
    {
      "cell_type": "code",
      "source": [
        "num = int(input(\"Enter a number: \"))\n",
        "fact = 1\n",
        "i = 1\n",
        "while i <= num:\n",
        "    fact *= i\n",
        "    i += 1\n",
        "print(\"Factorial of\", num, \"is\", fact)"
      ],
      "metadata": {
        "colab": {
          "base_uri": "https://localhost:8080/"
        },
        "id": "F353gQyl1o9X",
        "outputId": "6e86d45f-c1ee-4f25-9dd7-792f9c70a17c"
      },
      "execution_count": 28,
      "outputs": [
        {
          "output_type": "stream",
          "name": "stdout",
          "text": [
            "Enter a number: 4\n",
            "Factorial of 4 is 24\n"
          ]
        }
      ]
    }
  ]
}